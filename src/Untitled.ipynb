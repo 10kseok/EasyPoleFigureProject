{
 "cells": [
  {
   "cell_type": "code",
   "execution_count": 33,
   "id": "a9019ca5",
   "metadata": {},
   "outputs": [],
   "source": [
    "import sym\n",
    "import numpy as np"
   ]
  },
  {
   "cell_type": "code",
   "execution_count": 6,
   "id": "35f01e10",
   "metadata": {},
   "outputs": [
    {
     "data": {
      "text/plain": [
       "array([[ 6.1232340e-17,  1.0000000e+00,  0.0000000e+00],\n",
       "       [-1.0000000e+00,  1.2246468e-16,  0.0000000e+00],\n",
       "       [-1.8369702e-16, -1.0000000e+00,  0.0000000e+00]])"
      ]
     },
     "execution_count": 6,
     "metadata": {},
     "output_type": "execute_result"
    }
   ],
   "source": [
    "sym.__rot_90_180_270__([1,0,0])"
   ]
  },
  {
   "cell_type": "code",
   "execution_count": 8,
   "id": "17fd68fb",
   "metadata": {
    "collapsed": true
   },
   "outputs": [
    {
     "name": "stdout",
     "output_type": "stream",
     "text": [
      "Help on module sym:\n",
      "\n",
      "NAME\n",
      "    sym\n",
      "\n",
      "DESCRIPTION\n",
      "    General crystallographic symmetry operators\n",
      "    Cubic and hexagonal operators are available.\n",
      "    \n",
      "    \n",
      "    -- List of symmery operators\n",
      "    def cubic()\n",
      "    def hexag()\n",
      "    def tetra()\n",
      "    def triclinic()\n",
      "\n",
      "FUNCTIONS\n",
      "    __60_120_rot111__(h)\n",
      "        For the given h operation,\n",
      "        rotations of (pi/3) & (2*pi/3) around <111>\n",
      "        are performed and returned\n",
      "        \n",
      "        *cubic\n",
      "    \n",
      "    __mirror_110__(h)\n",
      "        Given the operation h, mirrored across the (110) plane returned\n",
      "        \n",
      "        *cubic\n",
      "    \n",
      "    __mmm__()\n",
      "    \n",
      "    __nomem__()\n",
      "    \n",
      "    __rot_90_180_270__(h)\n",
      "        Given the operation h,\n",
      "        the three rotated operations are returned\n",
      "        \n",
      "        *cubic\n",
      "    \n",
      "    __rot_nrot_001__(h, csym=None)\n",
      "        Rotations of 2*pi/nrot around axis <001>\n",
      "        \n",
      "        *hexagoanl, trigonal, tetragonal\n",
      "        \n",
      "        ---------\n",
      "        Arguments\n",
      "        h: symmetry operators\n",
      "        csym: 'hexa'\n",
      "    \n",
      "    __rot_nrot_x1__(h, nrot)\n",
      "        Mirror plane at 30 or 60 or 45 deg with respect to x1\n",
      "        \n",
      "        *hexagonal, trigonal, tetragonal\n",
      "        \n",
      "        hexa: nrot = 6\n",
      "        trig: nrot = 3\n",
      "        tetr: nrot = 4\n",
      "    \n",
      "    __trim0__(h)\n",
      "        if a value in the matrix h is fairly close to +-0.\n",
      "        then returns zero. In that way, trimming is performed\n",
      "        on the every component of given h matrix.\n",
      "    \n",
      "    cubic()\n",
      "    \n",
      "    cubic_centro()\n",
      "        ## cubic symmetry\n",
      "    \n",
      "    cv(pole, cdim=None, cang=None, csym=None)\n",
      "        Creats vector of the pole taking care of its unit cell's\n",
      "        dimension and axes' angles.\n",
      "    \n",
      "    cvec(cdim=None, cang=None)\n",
      "        Generates and returns 'cvec[i,n]' of the unit cell that\n",
      "        is characterized by unit cell dimension together with\n",
      "        axes' angles\n",
      "        \n",
      "        ---------\n",
      "        Arguments\n",
      "          cdim=[1.,1.,1.]\n",
      "          cang=[90.,90.,90.] : Should be in angle [90.,90.,90.] not radian\n",
      "    \n",
      "    hexag()\n",
      "    \n",
      "    ortho()\n",
      "        ## hexagonal\n",
      "    \n",
      "    tetra()\n",
      "        ## trigonal\n",
      "    \n",
      "    triclinic()\n",
      "    \n",
      "    trigo()\n",
      "        ## orthorhombic\n",
      "    \n",
      "    yesmem()\n",
      "\n",
      "FILE\n",
      "    /Users/koesnam/Desktop/myApps/EasyPoleFigureProject/src/sym.py\n",
      "\n",
      "\n"
     ]
    }
   ],
   "source": [
    "help(sym)"
   ]
  },
  {
   "cell_type": "code",
   "execution_count": 27,
   "id": "8c73c7f1",
   "metadata": {},
   "outputs": [],
   "source": [
    "cubic = sym.cubic()\n",
    "# print(cubic)\n",
    "# sym.cubic_centro()\n",
    "# sym.hexag()\n",
    "# sym.cubic()"
   ]
  },
  {
   "cell_type": "code",
   "execution_count": 28,
   "id": "f1615da7",
   "metadata": {
    "collapsed": true
   },
   "outputs": [
    {
     "name": "stdout",
     "output_type": "stream",
     "text": [
      "cubic[0] = [[1. 0. 0.]\n",
      " [0. 1. 0.]\n",
      " [0. 0. 1.]] [1. 1. 1.]\n",
      "cubic[1] = [[0. 0. 1.]\n",
      " [1. 0. 0.]\n",
      " [0. 1. 0.]] [1. 1. 1.]\n",
      "cubic[2] = [[0. 1. 0.]\n",
      " [0. 0. 1.]\n",
      " [1. 0. 0.]] [1. 1. 1.]\n",
      "cubic[3] = [[0. 1. 0.]\n",
      " [1. 0. 0.]\n",
      " [0. 0. 1.]] [1. 1. 1.]\n",
      "cubic[4] = [[1. 0. 0.]\n",
      " [0. 0. 1.]\n",
      " [0. 1. 0.]] [1. 1. 1.]\n",
      "cubic[5] = [[0. 0. 1.]\n",
      " [0. 1. 0.]\n",
      " [1. 0. 0.]] [1. 1. 1.]\n",
      "cubic[6] = [[ 0. -1.  0.]\n",
      " [ 1.  0.  0.]\n",
      " [ 0.  0.  1.]] [-1.  1.  1.]\n",
      "cubic[7] = [[-1.  0.  0.]\n",
      " [ 0. -1.  0.]\n",
      " [ 0.  0.  1.]] [-1. -1.  1.]\n",
      "cubic[8] = [[ 0.  1.  0.]\n",
      " [-1.  0.  0.]\n",
      " [ 0.  0.  1.]] [ 1. -1.  1.]\n",
      "cubic[9] = [[-1.  0.  0.]\n",
      " [ 0.  0.  1.]\n",
      " [ 0.  1.  0.]] [-1.  1.  1.]\n",
      "cubic[10] = [[ 0.  0. -1.]\n",
      " [-1.  0.  0.]\n",
      " [ 0.  1.  0.]] [-1. -1.  1.]\n",
      "cubic[11] = [[ 1.  0.  0.]\n",
      " [ 0.  0. -1.]\n",
      " [ 0.  1.  0.]] [ 1. -1.  1.]\n",
      "cubic[12] = [[ 0.  0. -1.]\n",
      " [ 0.  1.  0.]\n",
      " [ 1.  0.  0.]] [-1.  1.  1.]\n",
      "cubic[13] = [[ 0. -1.  0.]\n",
      " [ 0.  0. -1.]\n",
      " [ 1.  0.  0.]] [-1. -1.  1.]\n",
      "cubic[14] = [[ 0.  0.  1.]\n",
      " [ 0. -1.  0.]\n",
      " [ 1.  0.  0.]] [ 1. -1.  1.]\n",
      "cubic[15] = [[-1.  0.  0.]\n",
      " [ 0.  1.  0.]\n",
      " [ 0.  0.  1.]] [-1.  1.  1.]\n",
      "cubic[16] = [[ 0. -1.  0.]\n",
      " [-1.  0.  0.]\n",
      " [ 0.  0.  1.]] [-1. -1.  1.]\n",
      "cubic[17] = [[ 1.  0.  0.]\n",
      " [ 0. -1.  0.]\n",
      " [ 0.  0.  1.]] [ 1. -1.  1.]\n",
      "cubic[18] = [[ 0.  0. -1.]\n",
      " [ 1.  0.  0.]\n",
      " [ 0.  1.  0.]] [-1.  1.  1.]\n",
      "cubic[19] = [[-1.  0.  0.]\n",
      " [ 0.  0. -1.]\n",
      " [ 0.  1.  0.]] [-1. -1.  1.]\n",
      "cubic[20] = [[ 0.  0.  1.]\n",
      " [-1.  0.  0.]\n",
      " [ 0.  1.  0.]] [ 1. -1.  1.]\n",
      "cubic[21] = [[ 0. -1.  0.]\n",
      " [ 0.  0.  1.]\n",
      " [ 1.  0.  0.]] [-1.  1.  1.]\n",
      "cubic[22] = [[ 0.  0. -1.]\n",
      " [ 0. -1.  0.]\n",
      " [ 1.  0.  0.]] [-1. -1.  1.]\n",
      "cubic[23] = [[ 0.  1.  0.]\n",
      " [ 0.  0. -1.]\n",
      " [ 1.  0.  0.]] [ 1. -1.  1.]\n"
     ]
    }
   ],
   "source": [
    "for i in range(len(cubic)):\n",
    "    print(f'cubic[{i}] = {cubic[i]}', np.dot(cubic[i], [1,1,1]))"
   ]
  },
  {
   "cell_type": "code",
   "execution_count": 29,
   "id": "6d7b8095",
   "metadata": {},
   "outputs": [
    {
     "name": "stdout",
     "output_type": "stream",
     "text": [
      "6.123233995736766e-17\n",
      "0.0007963267107332633\n",
      "-1.0\n"
     ]
    }
   ],
   "source": [
    "ang = np.pi/2.\n",
    "print(np.cos(ang))\n",
    "print(np.cos(1.57))\n",
    "print(np.cos(np.pi))"
   ]
  },
  {
   "cell_type": "code",
   "execution_count": 23,
   "id": "4ce28686",
   "metadata": {
    "collapsed": true
   },
   "outputs": [
    {
     "data": {
      "text/plain": [
       "[array([[-1.,  0.,  0.],\n",
       "        [ 0., -1.,  0.],\n",
       "        [ 0.,  0., -1.]]),\n",
       " array([[ 0.,  0., -1.],\n",
       "        [-1.,  0.,  0.],\n",
       "        [ 0., -1.,  0.]]),\n",
       " array([[ 0., -1.,  0.],\n",
       "        [ 0.,  0., -1.],\n",
       "        [-1.,  0.,  0.]]),\n",
       " array([[ 0., -1.,  0.],\n",
       "        [-1.,  0.,  0.],\n",
       "        [ 0.,  0., -1.]]),\n",
       " array([[-1.,  0.,  0.],\n",
       "        [ 0.,  0., -1.],\n",
       "        [ 0., -1.,  0.]]),\n",
       " array([[ 0.,  0., -1.],\n",
       "        [ 0., -1.,  0.],\n",
       "        [-1.,  0.,  0.]]),\n",
       " array([[ 0.,  1.,  0.],\n",
       "        [-1.,  0.,  0.],\n",
       "        [ 0.,  0., -1.]]),\n",
       " array([[ 1.,  0.,  0.],\n",
       "        [ 0.,  1.,  0.],\n",
       "        [ 0.,  0., -1.]]),\n",
       " array([[ 0., -1.,  0.],\n",
       "        [ 1.,  0.,  0.],\n",
       "        [ 0.,  0., -1.]]),\n",
       " array([[ 1.,  0.,  0.],\n",
       "        [ 0.,  0., -1.],\n",
       "        [ 0., -1.,  0.]]),\n",
       " array([[ 0.,  0.,  1.],\n",
       "        [ 1.,  0.,  0.],\n",
       "        [ 0., -1.,  0.]]),\n",
       " array([[-1.,  0.,  0.],\n",
       "        [ 0.,  0.,  1.],\n",
       "        [ 0., -1.,  0.]]),\n",
       " array([[ 0.,  0.,  1.],\n",
       "        [ 0., -1.,  0.],\n",
       "        [-1.,  0.,  0.]]),\n",
       " array([[ 0.,  1.,  0.],\n",
       "        [ 0.,  0.,  1.],\n",
       "        [-1.,  0.,  0.]]),\n",
       " array([[ 0.,  0., -1.],\n",
       "        [ 0.,  1.,  0.],\n",
       "        [-1.,  0.,  0.]]),\n",
       " array([[ 1.,  0.,  0.],\n",
       "        [ 0., -1.,  0.],\n",
       "        [ 0.,  0., -1.]]),\n",
       " array([[ 0.,  1.,  0.],\n",
       "        [ 1.,  0.,  0.],\n",
       "        [ 0.,  0., -1.]]),\n",
       " array([[-1.,  0.,  0.],\n",
       "        [ 0.,  1.,  0.],\n",
       "        [ 0.,  0., -1.]]),\n",
       " array([[ 0.,  0.,  1.],\n",
       "        [-1.,  0.,  0.],\n",
       "        [ 0., -1.,  0.]]),\n",
       " array([[ 1.,  0.,  0.],\n",
       "        [ 0.,  0.,  1.],\n",
       "        [ 0., -1.,  0.]]),\n",
       " array([[ 0.,  0., -1.],\n",
       "        [ 1.,  0.,  0.],\n",
       "        [ 0., -1.,  0.]]),\n",
       " array([[ 0.,  1.,  0.],\n",
       "        [ 0.,  0., -1.],\n",
       "        [-1.,  0.,  0.]]),\n",
       " array([[ 0.,  0.,  1.],\n",
       "        [ 0.,  1.,  0.],\n",
       "        [-1.,  0.,  0.]]),\n",
       " array([[ 0., -1.,  0.],\n",
       "        [ 0.,  0.,  1.],\n",
       "        [-1.,  0.,  0.]])]"
      ]
     },
     "execution_count": 23,
     "metadata": {},
     "output_type": "execute_result"
    }
   ],
   "source": [
    "sym.cubic_centro()"
   ]
  },
  {
   "cell_type": "code",
   "execution_count": 10,
   "id": "86e0fef0",
   "metadata": {},
   "outputs": [
    {
     "name": "stdout",
     "output_type": "stream",
     "text": [
      "dot [[ 24  10  -5]\n",
      " [-66 -38  19]\n",
      " [ -3   3   9]] \n",
      "\n",
      "\n",
      "* =  [[  1   3  14]\n",
      " [  2   1 -84]\n",
      " [  6   2   1]]\n"
     ]
    }
   ],
   "source": [
    "h_n = [[-1,1,7],[1,-1,-21],[2,1,-1]]\n",
    "tempDot = [[-1,3,2],[2,-1,4],[3,2,-1]]\n",
    "print(\"dot\", np.dot(h_n, tempDot),\"\\n\\n\")\n",
    "print(\"* = \", np.array(h_n) * np.array(tempDot))\n"
   ]
  },
  {
   "cell_type": "code",
   "execution_count": 25,
   "id": "a69bcb30",
   "metadata": {},
   "outputs": [
    {
     "data": {
      "text/plain": [
       "13"
      ]
     },
     "execution_count": 25,
     "metadata": {},
     "output_type": "execute_result"
    }
   ],
   "source": [
    "np.dot([2,1],[3,7])"
   ]
  },
  {
   "cell_type": "code",
   "execution_count": 6,
   "id": "aa849e67",
   "metadata": {},
   "outputs": [
    {
     "name": "stdout",
     "output_type": "stream",
     "text": [
      "[6 7]\n"
     ]
    }
   ],
   "source": [
    "temp1 = np.array([2,1])\n",
    "temp2 = np.array([3,7])\n",
    "print(temp1 * temp2)"
   ]
  },
  {
   "cell_type": "code",
   "execution_count": 27,
   "id": "85afd7e2",
   "metadata": {},
   "outputs": [
    {
     "data": {
      "text/plain": [
       "[array([[1., 0., 0.],\n",
       "        [0., 1., 0.],\n",
       "        [0., 0., 1.]])]"
      ]
     },
     "execution_count": 27,
     "metadata": {},
     "output_type": "execute_result"
    }
   ],
   "source": [
    "sym.triclinic()"
   ]
  },
  {
   "cell_type": "code",
   "execution_count": 23,
   "id": "f26d9b7b",
   "metadata": {},
   "outputs": [
    {
     "data": {
      "text/plain": [
       "array([[0.],\n",
       "       [0.],\n",
       "       [0.]])"
      ]
     },
     "execution_count": 23,
     "metadata": {},
     "output_type": "execute_result"
    }
   ],
   "source": [
    "temp = np.zeros((3,1))\n",
    "for i"
   ]
  },
  {
   "cell_type": "code",
   "execution_count": 37,
   "id": "53c288d8",
   "metadata": {},
   "outputs": [
    {
     "name": "stdout",
     "output_type": "stream",
     "text": [
      "1\n"
     ]
    }
   ],
   "source": [
    "cubic_miller_idx = [[(0,0,1), (1,0,0), (0,1,0), (1,0,1), (1,1,0), (0,1,1), (1,1,1), (1,-1,1), (-1,1,1)]]\n",
    "print(len(cubic_miller_idx))"
   ]
  },
  {
   "cell_type": "code",
   "execution_count": 38,
   "id": "d2604322",
   "metadata": {},
   "outputs": [
    {
     "data": {
      "text/plain": [
       "12"
      ]
     },
     "execution_count": 38,
     "metadata": {},
     "output_type": "execute_result"
    }
   ],
   "source": [
    "len(sym.hexag())"
   ]
  }
 ],
 "metadata": {
  "kernelspec": {
   "display_name": "Python 3 (ipykernel)",
   "language": "python",
   "name": "python3"
  },
  "language_info": {
   "codemirror_mode": {
    "name": "ipython",
    "version": 3
   },
   "file_extension": ".py",
   "mimetype": "text/x-python",
   "name": "python",
   "nbconvert_exporter": "python",
   "pygments_lexer": "ipython3",
   "version": "3.8.8"
  }
 },
 "nbformat": 4,
 "nbformat_minor": 5
}
